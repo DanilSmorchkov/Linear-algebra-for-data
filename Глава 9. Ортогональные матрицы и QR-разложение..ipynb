{
 "cells": [
  {
   "cell_type": "code",
   "execution_count": 1,
   "id": "6d080bd2-eb77-430a-9fce-7ce6d5955cf5",
   "metadata": {},
   "outputs": [],
   "source": [
    "import numpy as np\n",
    "import matplotlib.pyplot as plt\n",
    "\n",
    "import matplotlib.gridspec as gridspec # Для создания нестандартных subplots\n",
    "\n",
    "import matplotlib_inline.backend_inline"
   ]
  },
  {
   "cell_type": "markdown",
   "id": "e9d54729-b918-4d17-9b6b-ebaf4f485648",
   "metadata": {},
   "source": [
    "# Ортогональные матрицы"
   ]
  },
  {
   "cell_type": "code",
   "execution_count": 33,
   "id": "851f0ab7-316f-44e2-887c-9d01daa05ce5",
   "metadata": {},
   "outputs": [
    {
     "name": "stdout",
     "output_type": "stream",
     "text": [
      "[[1. 0.]\n",
      " [0. 1.]]\n",
      " \n",
      "[[1. 0. 0.]\n",
      " [0. 1. 0.]\n",
      " [0. 0. 1.]]\n"
     ]
    }
   ],
   "source": [
    "# Указываем матрицы\n",
    "Q1 = np.array([ [1, -1], [1, 1] ])  / np.sqrt(2)\n",
    "Q2 = np.array([ [1, 2, 2], [2, 1, -2], [-2, 2, -1] ]) / 3\n",
    "\n",
    "# Вычислим их произведение с транспонированными (должно получиться I)\n",
    "print(np.round(Q1.T @ Q1)), print(' ')\n",
    "print(np.round(Q2.T @ Q2))"
   ]
  },
  {
   "cell_type": "markdown",
   "id": "8ab988db-75b7-4a47-b2ae-b76a017423be",
   "metadata": {},
   "source": [
    "# QR-разложение"
   ]
  },
  {
   "cell_type": "code",
   "execution_count": 84,
   "id": "44b23bee-b294-4130-a6f5-241ec5813eca",
   "metadata": {},
   "outputs": [
    {
     "data": {
      "image/png": "[encoded data removed]",
      "text/plain": [
       "<Figure size 1000x600 with 5 Axes>"
      ]
     },
     "metadata": {},
     "output_type": "display_data"
    }
   ],
   "source": [
    "# Создадим матрицу случайных чисел\n",
    "A = np.random.randn(6, 6)\n",
    "\n",
    "# QR-разложение\n",
    "Q, R = np.linalg.qr(A)\n",
    "\n",
    "# Визуализируем матрицы\n",
    "fig = plt.figure(figsize=(10, 6))\n",
    "axs = [0] * 5\n",
    "c = 1.5 # Пределы цвета\n",
    "\n",
    "gs1 = gridspec.GridSpec(2, 6)\n",
    "axs[0] = plt.subplot(gs1[0, 0:2])\n",
    "axs[0].imshow(A, cmap='gray', vmin=-c, vmax=c)\n",
    "axs[0].set_title('A', fontweight='bold')\n",
    "\n",
    "axs[1] = plt.subplot(gs1[0, 2:4])\n",
    "axs[1].imshow(Q, cmap='gray', vmin=-c, vmax=c)\n",
    "axs[1].set_title('Q', fontweight='bold')\n",
    "\n",
    "axs[2] = plt.subplot(gs1[0, 4:6])\n",
    "axs[2].imshow(R, cmap='gray', vmin=-c, vmax=c)\n",
    "axs[2].set_title('R', fontweight='bold')\n",
    "\n",
    "axs[3] = plt.subplot(gs1[1, 1:3])\n",
    "axs[3].imshow(A - Q@R, cmap='gray', vmin=-c, vmax=c)\n",
    "axs[3].set_title('A-QR', fontweight='bold')\n",
    "\n",
    "axs[4] = plt.subplot(gs1[1, 3:5])\n",
    "axs[4].imshow(Q.T@Q, cmap='gray',)\n",
    "axs[4].set_title(r'$\\bf{Q}^{\\rm{T}}Q$')\n",
    "\n",
    "# Уберем оси\n",
    "for a in axs:\n",
    "    a.set_xticks([])\n",
    "    a.set_yticks([])\n",
    "\n",
    "plt.tight_layout()\n",
    "plt.show()"
   ]
  },
  {
   "cell_type": "code",
   "execution_count": 96,
   "id": "27465fa3-9655-4b0f-bfa4-a5aa8abf54c1",
   "metadata": {},
   "outputs": [
    {
     "name": "stdout",
     "output_type": "stream",
     "text": [
      "Размер матрицы A: (41, 14). Ранг матрицы A: 14.\n",
      "Размер матрицы Q: (41, 14). Ранг матрицы Q: 14.\n",
      "Размер матрицы R: (14, 14). Ранг матрицы R: 14.\n"
     ]
    }
   ],
   "source": [
    "# Размеры и ранги матриц Q и R в зависимости от исходной матрицы\n",
    "n, m = 41, 14\n",
    "\n",
    "A = np.random.randn(n, m)\n",
    "Q, R = np.linalg.qr(A,)\n",
    "\n",
    "# Выведем размеры матриц\n",
    "print(f'Размер матрицы A: {A.shape}. Ранг матрицы A: {np.linalg.matrix_rank(A)}.')\n",
    "print(f'Размер матрицы Q: {Q.shape}. Ранг матрицы Q: {np.linalg.matrix_rank(Q)}.')\n",
    "print(f'Размер матрицы R: {R.shape}. Ранг матрицы R: {np.linalg.matrix_rank(R)}.')"
   ]
  },
  {
   "cell_type": "code",
   "execution_count": 101,
   "id": "5ff13fc4-ce1b-4c4c-9525-5e68d5e10943",
   "metadata": {},
   "outputs": [
    {
     "data": {
      "text/plain": [
       "array([[-1.,  1.],\n",
       "       [ 1.,  1.]])"
      ]
     },
     "execution_count": 101,
     "metadata": {},
     "output_type": "execute_result"
    }
   ],
   "source": [
    "# Иллюстрация полной Q для матрицы A с M>N (Высокой)\n",
    "A = np.array( [ [1, -1] ] ).T\n",
    "\n",
    "Q,R = np.linalg.qr(A, 'complete')\n",
    "Q * np.sqrt(2)"
   ]
  },
  {
   "cell_type": "markdown",
   "id": "ea810971-7861-41f2-945c-2b5f7e801736",
   "metadata": {},
   "source": [
    "# Упражнения по программированию"
   ]
  },
  {
   "cell_type": "markdown",
   "id": "22e6f101-0dff-40e4-9bb9-0d5dbe5c88fd",
   "metadata": {},
   "source": [
    "### Упражнение 1. Доказать тождества $\\textbf{Q}^T\\textbf{Q}=\\textbf{QQ}^T=\\textbf{Q}^{-1}\\textbf{Q}=\\textbf{QQ}^{-1}=\\textbf{I}$ ."
   ]
  },
  {
   "cell_type": "code",
   "execution_count": 109,
   "id": "e57bd4b2-671b-4e33-b947-b4911fac3121",
   "metadata": {},
   "outputs": [
    {
     "name": "stdout",
     "output_type": "stream",
     "text": [
      "[[ 1.  0.  0. -0.  0.]\n",
      " [ 0.  1. -0.  0.  0.]\n",
      " [ 0. -0.  1. -0.  0.]\n",
      " [-0.  0. -0.  1. -0.]\n",
      " [ 0.  0.  0. -0.  1.]] \n",
      "\n",
      "[[ 1. -0. -0. -0.  0.]\n",
      " [-0.  1.  0.  0. -0.]\n",
      " [-0.  0.  1.  0. -0.]\n",
      " [-0.  0.  0.  1. -0.]\n",
      " [ 0. -0. -0. -0.  1.]] \n",
      "\n",
      "[[ 1.  0. -0. -0.  0.]\n",
      " [-0.  1.  0.  0. -0.]\n",
      " [ 0.  0.  1.  0. -0.]\n",
      " [-0. -0.  0.  1.  0.]\n",
      " [ 0.  0.  0.  0.  1.]] \n",
      "\n",
      "[[ 1.  0. -0.  0.  0.]\n",
      " [-0.  1.  0. -0.  0.]\n",
      " [ 0.  0.  1. -0.  0.]\n",
      " [-0.  0.  0.  1.  0.]\n",
      " [ 0. -0. -0.  0.  1.]] \n",
      "\n"
     ]
    }
   ],
   "source": [
    "# Исходная случайная матрица\n",
    "A = np.random.randn(5, 5)\n",
    "\n",
    "# Ортогональная матрица Q\n",
    "Q = np.linalg.qr(A)[0]\n",
    "Qt = Q.T\n",
    "Qi = np.linalg.inv(Q)\n",
    "\n",
    "# QtQ\n",
    "print(np.round(Qt@Q, 8), \"\\n\")\n",
    "\n",
    "# QQt\n",
    "print(np.round(Q@Qt, 8), \"\\n\")\n",
    "\n",
    "# QiQ\n",
    "print(np.round(Qi@Q, 8), \"\\n\")\n",
    "\n",
    "# QQi\n",
    "print(np.round(Q@Qi, 8), \"\\n\")"
   ]
  },
  {
   "cell_type": "markdown",
   "id": "7465e54b-97e8-400a-bf69-5c5f9febd902",
   "metadata": {},
   "source": [
    "### Упражнение 2. Ортогонализация Грама-Шмидта."
   ]
  },
  {
   "cell_type": "code",
   "execution_count": 149,
   "id": "258343d9-c375-451e-a198-f90fec5fb337",
   "metadata": {},
   "outputs": [],
   "source": [
    "# Создадим функцию, которая выполняет ортогонализацию квадратных матриц\n",
    "def orthogonalizationGS(A):\n",
    "    # Зададим форму для ортоганальной матрицы\n",
    "    Q = np.zeros((A.shape))\n",
    "    # Зададим циклом создание каждого столбца в Q\n",
    "    for i in range(A.shape[1]):\n",
    "        # Вынимаем вектор-строку\n",
    "        q = A[:, i]\n",
    "        # Ортогонализуем по всем предыдущим векторам\n",
    "        for j in range(i):\n",
    "            alpha_j = np.dot(q, Q[:,j].T) / np.linalg.norm(Q[:, j]) ** 2\n",
    "            q = alpha_j * Q[:, j] - q\n",
    "\n",
    "        # Приводим вектор к единичной норме\n",
    "        q /= np.linalg.norm(q)\n",
    "        # Помещаем полученный вектор в матрицу Q\n",
    "        Q[:, i] = q\n",
    "\n",
    "    return Q"
   ]
  },
  {
   "cell_type": "code",
   "execution_count": 150,
   "id": "8a25969f-4e7d-49a1-8ba5-424ca38d2ad3",
   "metadata": {},
   "outputs": [
    {
     "name": "stdout",
     "output_type": "stream",
     "text": [
      "[[-1.52394848  0.          0.2395213  -0.88875729  0.69248054]\n",
      " [-0.93409366  0.         -0.45503722  1.43387394 -0.63712307]\n",
      " [-0.11308338  0.         -1.90632155 -0.4037435   0.21621054]\n",
      " [ 0.77465306  0.         -0.23250407  0.42980674  1.29374899]\n",
      " [-0.43837754  0.          0.21783175  0.89798294  1.18068262]] \n",
      "\n",
      "[[ 0.         -0.59227676 -0.         -0.          0.        ]\n",
      " [-0.         -0.67711882  0.          0.         -0.        ]\n",
      " [ 0.          0.37867463 -0.          0.         -0.        ]\n",
      " [ 0.         -1.21956312 -0.          0.         -0.        ]\n",
      " [ 0.          1.24899546  0.         -0.         -0.        ]]\n"
     ]
    }
   ],
   "source": [
    "# Создадим матрицу определнных размеров\n",
    "n = 5\n",
    "m = 5\n",
    "A = np.random.randn(n, m)\n",
    "# Ортогональная матрица с помощью ручной функции\n",
    "Q1 = orthogonalizationGS(A)\n",
    "\n",
    "# Ортогональная матрица с помощью numpy.linalg.qr\n",
    "Q2 = np.linalg.qr(A)[0]\n",
    "\n",
    "# Покажем их равенство, учитывая, что некоторые столбцы могут быть развернуты (умножены на -1) по сравнению с процессом Грама-Шмидта\n",
    "print(np.round(Q2 - Q1, 10), '\\n')\n",
    "print(np.round(Q2 + Q1, 10))"
   ]
  },
  {
   "cell_type": "markdown",
   "id": "e4d624eb-1d8b-4f5f-8ebc-f999e739f9d8",
   "metadata": {},
   "source": [
    "### Упражнение 3. Применение QR разложения к \"почти ортогональной матрице\"."
   ]
  },
  {
   "cell_type": "code",
   "execution_count": 235,
   "id": "1c62eeea-107f-4128-aca8-2dad3df9d7cb",
   "metadata": {},
   "outputs": [
    {
     "name": "stdout",
     "output_type": "stream",
     "text": [
      "[[ 1.  0.  0.  0. -0. -0.]\n",
      " [ 0.  1. -0. -0. -0.  0.]\n",
      " [ 0.  0.  1. -0. -0. -0.]\n",
      " [ 0.  0.  0.  1.  0.  0.]\n",
      " [ 0.  0.  0.  0.  1. -0.]\n",
      " [ 0.  0.  0.  0.  0.  1.]] \n",
      "\n",
      "[[10. -0. -0.  0.  0. -0.]\n",
      " [ 0. 11.  0. -0. -0.  0.]\n",
      " [ 0.  0. 12. -0. -0.  0.]\n",
      " [ 0.  0.  0. 13.  0.  0.]\n",
      " [ 0.  0.  0.  0. 14. -0.]\n",
      " [ 0.  0.  0.  0.  0. 15.]] \n",
      "\n",
      "[[ 1. -0. -0.  0.  0. -0.]\n",
      " [-0.  1. -0.  0.  0. -0.]\n",
      " [-0. -0.  1. -0.  0.  0.]\n",
      " [ 0.  0. -0.  1.  0. -0.]\n",
      " [ 0.  0.  0.  0.  1. -0.]\n",
      " [-0. -0.  0. -0. -0.  1.]] \n",
      "\n",
      "[[ 1.    -0.    -0.     0.036  0.     0.   ]\n",
      " [ 0.     1.    -0.     0.118 -0.     0.   ]\n",
      " [ 0.     0.     1.     0.058  0.     0.   ]\n",
      " [ 0.     0.     0.     0.98  -0.008 -0.052]\n",
      " [ 0.     0.     0.     0.     1.    -0.   ]\n",
      " [ 0.     0.     0.     0.     0.     0.999]] \n",
      "\n"
     ]
    }
   ],
   "source": [
    "# Шаг 1\n",
    "# Создадим ортогональную матрицу U\n",
    "U = np.linalg.qr(np.random.randn(6, 6))[0]\n",
    "\n",
    "# Вычислим QR разложения для ортогональной матрицы U. Убедимся, что R=I\n",
    "Q, R = np.linalg.qr(U)\n",
    "print(np.round(R,8), '\\n')\n",
    "\n",
    "# Шаг 2\n",
    "# Изменим нормы столбцов матрицы U\n",
    "for i, j in enumerate(range(10, 16)):\n",
    "    U[:, i] *= j\n",
    "# Вычислим QR разложения для получившейся матрицы U\n",
    "Q, R = np.linalg.qr(U) # R диагональная матрица по понятым причинам\n",
    "print(np.round(R, 8), '\\n')\n",
    "print(np.round(Q.T@Q, 8), '\\n')\n",
    "\n",
    "# Шаг 3\n",
    "# Изменим элемент u[1,4]=0\n",
    "U = np.linalg.qr(np.random.randn(6, 6))[0]\n",
    "U[0, 3] = 0\n",
    "# Вычислим QR разложения для получившейся матрицы U\n",
    "Q, R = np.linalg.qr(U)\n",
    "print(np.round(R, 3), '\\n')"
   ]
  },
  {
   "cell_type": "markdown",
   "id": "b432f997-1923-4600-b370-c3c008255c9a",
   "metadata": {},
   "source": [
    "### Упражнение 4. Сравнение численных ошибок при обращении матрицы \"традиционным\" способом и с помощью QR-разложения."
   ]
  },
  {
   "cell_type": "code",
   "execution_count": 3,
   "id": "6504d881-472e-4ad7-9edb-4700970dec4d",
   "metadata": {},
   "outputs": [],
   "source": [
    "# Функция, вычисляющая обратную матрицу\n",
    "def Inversion(M, image=True):\n",
    "    ''' Функция вычисляет обратную матрицу к данной. Если значение image=True, то выводятся изображения матриц миноров, решетки, кофакторов, \n",
    "    обратной матрицы, обратной из np.linalg.inv() и произведение начальной матрицы на обратную.\n",
    "    '''\n",
    "    # Проверка на размерность\n",
    "    if M.shape[0] != M.shape[1]:\n",
    "        raise Exception('Матрица должна быть квадратной!')\n",
    "    # Проверка на ранг\n",
    "    if M.shape[0] != np.linalg.matrix_rank(M):\n",
    "        raise Exception('Сингулярная матрица не имеет обратной!')\n",
    "    # Размер матрицы\n",
    "    n = M.shape[0]\n",
    "    # Основа для обратной матрицы\n",
    "    invers = np.zeros((n, n))\n",
    "    # Далее создаем матрицу миноров\n",
    "    minors = np.zeros((n, n))\n",
    "    for (i, j), _ in np.ndenumerate(minors):\n",
    "        minor = np.delete(np.delete(M, j, 1), i, 0)\n",
    "        minors[i, j] = np.linalg.det(minor)\n",
    "    # Создадим матрицу-решетку\n",
    "    grid = np.zeros((n, n))\n",
    "    for (i, j), _ in np.ndenumerate(grid):\n",
    "        grid[i, j] = (-1) ** (i + j)\n",
    "    # Матрица кофакторов\n",
    "    cofactors = grid * minors\n",
    "    # Матрица присоединений (обратная матрица)\n",
    "    inv = cofactors.T / np.linalg.det(M)\n",
    "\n",
    "    # Изобразим матрицы\n",
    "    if image:\n",
    "        # Подготовим list для цикла for\n",
    "        matrixes = [minors, grid, cofactors, inv, np.linalg.inv(M), M@inv]\n",
    "        titles = ['Матрица миноров', 'Матрица-решетка', \"Матрица кофакторов\", 'Обратная матрица', 'Обратная матрица из np.linalg', 'M@Minv']\n",
    "        fig, axs = plt.subplots(2, 3, figsize=(14, 7))\n",
    "        ax = axs.flatten()\n",
    "        for i in range(6):\n",
    "            ax[i].imshow(matrixes[i], cmap='gray', vmin=np.min(matrixes[i]), vmax=np.max([matrixes[i]]))\n",
    "            ax[i].set_title(titles[i])\n",
    "            ax[i].set_xticks([])\n",
    "            ax[i].set_yticks([])\n",
    "        plt.show()\n",
    "    return inv"
   ]
  },
  {
   "cell_type": "code",
   "execution_count": 10,
   "id": "9257e00c-0b39-4d01-a8a9-300d95bedd57",
   "metadata": {},
   "outputs": [
    {
     "data": {
      "image/png": "[encoded data removed]",
      "text/plain": [
       "<Figure size 600x600 with 1 Axes>"
      ]
     },
     "metadata": {},
     "output_type": "display_data"
    }
   ],
   "source": [
    "# Случайная матрица nхn\n",
    "n = 5\n",
    "A = np.random.randn(n, n)\n",
    "\n",
    "# Единичная матрица nхn\n",
    "I = np.eye(n)\n",
    "\n",
    "# Обратная матрица \"традиционным способом\"\n",
    "Ainv_traditional = Inversion(A, image=False)\n",
    "\n",
    "# Обратная матрица с помощью QR-разложения\n",
    "Q, R = np.linalg.qr(A)\n",
    "Rinv = Inversion(R, image=False)\n",
    "Ainv_QR = Rinv @ Q.T\n",
    "\n",
    "# Рассчитаем расстояние от единичной матрицы до произведений матрицы A на её обратные\n",
    "sse = [0, 0] # sse - sum of squared error\n",
    "sse[0] = np.linalg.norm(Ainv_traditional@A-I)\n",
    "sse[1] = np.linalg.norm(Ainv_QR@A-I)\n",
    "\n",
    "# Визуализируем с помощью bar\n",
    "plt.figure(figsize=(6, 6))\n",
    "plt.bar(range(2), sse, color=[.7, .7, .7])\n",
    "plt.ylim([0, np.max(sse)*1.1])\n",
    "plt.xticks(range(2), labels=['Традиционное', 'QR-разложение'])\n",
    "plt.title(f'Ошибка обратной матрицы (матрица{n}х{n})', fontsize=10, ha='center')\n",
    "plt.ylabel('Евклидово расстояние до единичной матрицы')\n",
    "plt.show()"
   ]
  },
  {
   "cell_type": "markdown",
   "id": "eb56e493-5b0c-4d2d-b88f-9bc326e88be6",
   "metadata": {},
   "source": [
    "### Упражнение 5. Продолжение предыдущего упражнения. Необходимо циклом повторить эксперимент и визуализировать точность при различных размерах матрицы."
   ]
  },
  {
   "cell_type": "code",
   "execution_count": 69,
   "id": "51467fe3-6280-4d70-8ecc-6dfea46d2305",
   "metadata": {},
   "outputs": [
    {
     "data": {
      "image/png": "[encoded data removed]",
      "text/plain": [
       "<Figure size 1200x600 with 2 Axes>"
      ]
     },
     "metadata": {},
     "output_type": "display_data"
    }
   ],
   "source": [
    "def Experiment(Nexp):\n",
    "    \n",
    "    sse = np.zeros((100, 2)) # sse - sum of squared error\n",
    "    for i in range(100):\n",
    "        n = Nexp\n",
    "        A = np.random.randn(n, n)\n",
    "        \n",
    "        # Единичная матрица nхn\n",
    "        I = np.eye(n)\n",
    "        \n",
    "        # Обратная матрица \"традиционным способом\"\n",
    "        Ainv_traditional = Inversion(A, image=False)\n",
    "        \n",
    "        # Обратная матрица с помощью QR-разложения\n",
    "        Q, R = np.linalg.qr(A)\n",
    "        Rinv = Inversion(R, image=False)\n",
    "        Ainv_QR = Rinv @ Q.T\n",
    "        \n",
    "        # Рассчитаем расстояние от единичной матрицы до произведений матрицы A на её обратные\n",
    "        sse[i, 0] = np.linalg.norm(Ainv_traditional@A-I)\n",
    "        sse[i, 1] = np.linalg.norm(Ainv_QR@A-I)\n",
    "    return sse\n",
    "# Визуализация\n",
    "fig, axs = plt.subplots(1, 2, figsize=(12,6))\n",
    "for i, Exp in enumerate([5, 30]):\n",
    "    sse = Experiment(Exp)\n",
    "    x = np.hstack(( np.zeros((100, 1)) , np.ones((100, 1)))) # Для построения точек\n",
    "    sse_mean = np.mean(sse, axis=0)\n",
    "    axs[i].bar(range(2), sse_mean)\n",
    "    axs[i].plot(x, sse, 'ko')\n",
    "    axs[i].set_title(f'Ошибка обратной матрицы {Exp}x{Exp}')\n",
    "    axs[i].set_xticks(range(2), labels=['Традиционное', 'QR-разложение'])\n",
    "    axs[i].set_ylabel('Евклидово расстояние до единичной матрицы')"
   ]
  },
  {
   "cell_type": "markdown",
   "id": "8873419b-77fd-4c93-aa81-d9a6ebadc92d",
   "metadata": {},
   "source": [
    "### Упражнение 6. Сингулярные значения ортогональной матрицы и нормы векторов, умноженных на ортогональную матрицу."
   ]
  },
  {
   "cell_type": "code",
   "execution_count": 10,
   "id": "81fc6e4d-7a65-450d-a53a-3df30535ffed",
   "metadata": {},
   "outputs": [
    {
     "name": "stdout",
     "output_type": "stream",
     "text": [
      "0.9999999999999998 1.0000000000000004\n"
     ]
    }
   ],
   "source": [
    "# Создадим случайную ортогональную матрицу\n",
    "n = 5\n",
    "Q, _ = np.linalg.qr(np.random.randn(m, m))\n",
    "\n",
    "# Вычислим индуцированную норму и Фробениусову норму, деленную на квадратный корень из m\n",
    "norm_np = np.linalg.norm(Q, 2)\n",
    "norm_fr = np.sqrt(np.sum(Q ** 2)) / np.sqrt(m)\n",
    "print(norm_fr, norm_np)"
   ]
  },
  {
   "cell_type": "code",
   "execution_count": 16,
   "id": "e28cd0da-0402-4521-a40a-8e83c2c09470",
   "metadata": {},
   "outputs": [
    {
     "name": "stdout",
     "output_type": "stream",
     "text": [
      "1.9719720441665118\n",
      "1.9719720441665116\n"
     ]
    }
   ],
   "source": [
    "# Исследуем норму вектора и вектора, умноженного на ортогональную матрицу\n",
    "# Случайный вектор\n",
    "v = np.random.randn(n, 1)\n",
    "\n",
    "# Нормы\n",
    "norm_v = np.linalg.norm(v)\n",
    "norm_Qv = np.linalg.norm(Q@v)\n",
    "\n",
    "print(norm_v)\n",
    "print(norm_Qv)"
   ]
  },
  {
   "cell_type": "markdown",
   "id": "b8cfb56c-24cd-4fda-875f-97e2812e5e14",
   "metadata": {},
   "source": [
    "Докажем аналитически. Норма вектора по определению: $ \\textbf{||Qv||} = (\\textbf{Qv})^{\\rm T}\\textbf{Qv}=\\textbf{v}^{\\rm T}\\textbf{Q}^{\\rm T} \n",
    "\\textbf{Qv} = \\textbf{v}^{\\rm T}\\textbf{v} = ||\\textbf{v}||$"
   ]
  },
  {
   "cell_type": "markdown",
   "id": "1e6b7416-b15b-4417-8da7-99f3dbb384dc",
   "metadata": {},
   "source": [
    "### Упражнение 7. Особенность матрицы $ \\textbf R $, использующаяся в МНК."
   ]
  },
  {
   "cell_type": "code",
   "execution_count": 42,
   "id": "609dfa5a-5398-4ea9-b3a5-a5bbc4c88af8",
   "metadata": {},
   "outputs": [
    {
     "name": "stdout",
     "output_type": "stream",
     "text": [
      "Матрица R\n",
      "[[ 4.1023 -1.3249 -0.3624  0.0867]\n",
      " [ 0.      2.3851  1.0148  0.0055]\n",
      " [ 0.      0.     -3.5743  0.9806]\n",
      " [ 0.      0.      0.      1.6737]\n",
      " [ 0.      0.      0.      0.    ]\n",
      " [ 0.      0.      0.      0.    ]\n",
      " [ 0.      0.      0.      0.    ]\n",
      " [ 0.      0.      0.      0.    ]\n",
      " [ 0.      0.      0.      0.    ]\n",
      " [ 0.      0.      0.      0.    ]]\n"
     ]
    }
   ],
   "source": [
    "# Высокая полноранговая матрица А размером MxN\n",
    "A = np.random.randn(10, 4)\n",
    "# Извлекаем матрицу R\n",
    "Q, R = np.linalg.qr(A, 'complete')\n",
    "# Покажем R\n",
    "print('Матрица R:')\n",
    "print(np.round(R, 4))"
   ]
  },
  {
   "cell_type": "code",
   "execution_count": 45,
   "id": "7b308d15-a364-43a2-8c21-3889e183dfe2",
   "metadata": {},
   "outputs": [
    {
     "name": "stdout",
     "output_type": "stream",
     "text": [
      "Подматрица R 4х4:\n",
      "[[ 4.102 -1.325 -0.362  0.087]\n",
      " [ 0.     2.385  1.015  0.005]\n",
      " [ 0.     0.    -3.574  0.981]\n",
      " [ 0.     0.     0.     1.674]] \n",
      "\n",
      "Обратная матрицы к квадратной выше:\n",
      "[[ 0.244  0.135  0.014 -0.021]\n",
      " [ 0.     0.419  0.119 -0.071]\n",
      " [-0.    -0.    -0.28   0.164]\n",
      " [ 0.     0.     0.     0.597]] \n",
      "\n",
      "Левообратная матрица к R:\n",
      "[[ 0.244  0.135  0.014 -0.021  0.     0.     0.     0.     0.     0.   ]\n",
      " [ 0.     0.419  0.119 -0.071  0.     0.     0.     0.     0.     0.   ]\n",
      " [-0.     0.    -0.28   0.164  0.     0.     0.     0.     0.     0.   ]\n",
      " [ 0.    -0.    -0.     0.597  0.     0.     0.     0.     0.     0.   ]]\n"
     ]
    }
   ],
   "source": [
    "# Проврим два утверждения об R\n",
    "# 1. Подматрица, состоящая из первых N строк является квадратной и полноранговой, значит имеет обратную\n",
    "Rsub = R[0:4, 0:4]\n",
    "print('Подматрица R 4х4:')\n",
    "print(np.round(Rsub, 3), '\\n')\n",
    "Rsub_inv = np.linalg.inv(Rsub)\n",
    "print('Обратная матрицы к квадратной выше:')\n",
    "print(np.round(Rsub_inv, 3), '\\n')\n",
    "\n",
    "# 2. Высокая матрица R имеет псевдообратную матрицу\n",
    "R_leftinv = np.linalg.pinv(R)\n",
    "print('Левообратная матрица к R:')\n",
    "print(np.round(R_leftinv, 3))"
   ]
  },
  {
   "cell_type": "code",
   "execution_count": null,
   "id": "e69be555-9612-4b2e-9917-c0f38865778a",
   "metadata": {},
   "outputs": [],
   "source": []
  }
 ],
 "metadata": {
  "kernelspec": {
   "display_name": "Python 3 (ipykernel)",
   "language": "python",
   "name": "python3"
  },
  "language_info": {
   "codemirror_mode": {
    "name": "ipython",
    "version": 3
   },
   "file_extension": ".py",
   "mimetype": "text/x-python",
   "name": "python",
   "nbconvert_exporter": "python",
   "pygments_lexer": "ipython3",
   "version": "3.9.0"
  }
 },
 "nbformat": 4,
 "nbformat_minor": 5
}
